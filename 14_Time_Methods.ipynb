{
  "nbformat": 4,
  "nbformat_minor": 0,
  "metadata": {
    "colab": {
      "name": "14_Time-Methods.ipynb",
      "provenance": [],
      "collapsed_sections": [],
      "authorship_tag": "ABX9TyMuPdyQ0iVqZR1n8sYLMzwr",
      "include_colab_link": true
    },
    "kernelspec": {
      "name": "python3",
      "display_name": "Python 3"
    },
    "language_info": {
      "name": "python"
    }
  },
  "cells": [
    {
      "cell_type": "markdown",
      "metadata": {
        "id": "view-in-github",
        "colab_type": "text"
      },
      "source": [
        "<a href=\"https://colab.research.google.com/github/Nidhi89717/ML/blob/main/14_Time_Methods.ipynb\" target=\"_parent\"><img src=\"https://colab.research.google.com/assets/colab-badge.svg\" alt=\"Open In Colab\"/></a>"
      ]
    },
    {
      "cell_type": "markdown",
      "source": [
        "# Time Methods"
      ],
      "metadata": {
        "id": "U5QwCVvFqThM"
      }
    },
    {
      "cell_type": "markdown",
      "source": [
        "## Python Datetime Review\n",
        "\n",
        "Basic Python outside of Pandas contains a datetime library:"
      ],
      "metadata": {
        "id": "bVu8bIJerHvO"
      }
    },
    {
      "cell_type": "code",
      "execution_count": null,
      "metadata": {
        "id": "BR6ds5-QqXL6"
      },
      "outputs": [],
      "source": [
        "import numpy as np\n",
        "import pandas as pd\n",
        "\n",
        "from datetime import datetime"
      ]
    },
    {
      "cell_type": "code",
      "source": [
        "myyear = 2022\n",
        "mymonth = 1\n",
        "myday = 1\n",
        "mydate = 1\n",
        "myhour = 2\n",
        "mymin = 30 \n",
        "mysec = 15"
      ],
      "metadata": {
        "id": "hRss6Q3qia4P"
      },
      "execution_count": null,
      "outputs": []
    },
    {
      "cell_type": "code",
      "source": [
        "my_date = datetime(myyear,mymonth,myday)"
      ],
      "metadata": {
        "id": "CXZ2R3JZishG"
      },
      "execution_count": null,
      "outputs": []
    },
    {
      "cell_type": "code",
      "source": [
        "my_date"
      ],
      "metadata": {
        "colab": {
          "base_uri": "https://localhost:8080/"
        },
        "id": "c6wdq7R8lvyb",
        "outputId": "c3f34775-190e-4118-a842-f6f30c979138"
      },
      "execution_count": null,
      "outputs": [
        {
          "output_type": "execute_result",
          "data": {
            "text/plain": [
              "datetime.datetime(2022, 1, 1, 0, 0)"
            ]
          },
          "metadata": {},
          "execution_count": 4
        }
      ]
    },
    {
      "cell_type": "code",
      "source": [
        "mydatetime = datetime(myyear,mymonth,myday,mydate,myhour,mymin,mysec)"
      ],
      "metadata": {
        "id": "C5s3YTGlmFHD"
      },
      "execution_count": null,
      "outputs": []
    },
    {
      "cell_type": "code",
      "source": [
        "mydatetime"
      ],
      "metadata": {
        "colab": {
          "base_uri": "https://localhost:8080/"
        },
        "id": "JMx99Xc1mYAk",
        "outputId": "30b7ee22-a343-4914-dcdd-1afc56c74718"
      },
      "execution_count": null,
      "outputs": [
        {
          "output_type": "execute_result",
          "data": {
            "text/plain": [
              "datetime.datetime(2022, 1, 1, 1, 2, 30, 15)"
            ]
          },
          "metadata": {},
          "execution_count": 6
        }
      ]
    },
    {
      "cell_type": "code",
      "source": [
        "mydatetime.year"
      ],
      "metadata": {
        "colab": {
          "base_uri": "https://localhost:8080/"
        },
        "id": "2H9839QTmagL",
        "outputId": "a5e7269e-7d77-4f68-f2cb-ed4611cf61b8"
      },
      "execution_count": null,
      "outputs": [
        {
          "output_type": "execute_result",
          "data": {
            "text/plain": [
              "2022"
            ]
          },
          "metadata": {},
          "execution_count": 7
        }
      ]
    },
    {
      "cell_type": "markdown",
      "source": [
        "# Pandas\n",
        "\n",
        "# Converting to datetime\n",
        "\n",
        "Often when data sets are stored, the time component may be a string. Pandas easily converts strings to datetime objects."
      ],
      "metadata": {
        "id": "SvO0xpBDra2M"
      }
    },
    {
      "cell_type": "code",
      "source": [
        "myser = pd.Series(['Nov 3, 1990', '2000-01-01',None])"
      ],
      "metadata": {
        "id": "USBWk5arpWS6"
      },
      "execution_count": null,
      "outputs": []
    },
    {
      "cell_type": "code",
      "source": [
        "myser"
      ],
      "metadata": {
        "colab": {
          "base_uri": "https://localhost:8080/"
        },
        "id": "r2hYGjgapvY5",
        "outputId": "7291f53a-79e3-4c39-db8e-e80f249ded4e"
      },
      "execution_count": null,
      "outputs": [
        {
          "output_type": "execute_result",
          "data": {
            "text/plain": [
              "0    Nov 3, 1990\n",
              "1     2000-01-01\n",
              "2           None\n",
              "dtype: object"
            ]
          },
          "metadata": {},
          "execution_count": 9
        }
      ]
    },
    {
      "cell_type": "code",
      "source": [
        "myser[0]"
      ],
      "metadata": {
        "colab": {
          "base_uri": "https://localhost:8080/",
          "height": 36
        },
        "id": "c7K-d2s-px1h",
        "outputId": "6acaf3af-e9e3-485f-b7c4-1877b6a651d9"
      },
      "execution_count": null,
      "outputs": [
        {
          "output_type": "execute_result",
          "data": {
            "text/plain": [
              "'Nov 3, 1990'"
            ],
            "application/vnd.google.colaboratory.intrinsic+json": {
              "type": "string"
            }
          },
          "metadata": {},
          "execution_count": 10
        }
      ]
    },
    {
      "cell_type": "code",
      "source": [
        "myser[0].year"
      ],
      "metadata": {
        "colab": {
          "base_uri": "https://localhost:8080/",
          "height": 171
        },
        "id": "mjRkPx9lqUOB",
        "outputId": "fef85115-4e96-4895-976e-8e4e79e64856"
      },
      "execution_count": null,
      "outputs": [
        {
          "output_type": "error",
          "ename": "AttributeError",
          "evalue": "ignored",
          "traceback": [
            "\u001b[0;31m---------------------------------------------------------------------------\u001b[0m",
            "\u001b[0;31mAttributeError\u001b[0m                            Traceback (most recent call last)",
            "\u001b[0;32m<ipython-input-11-48a9817b80e5>\u001b[0m in \u001b[0;36m<module>\u001b[0;34m()\u001b[0m\n\u001b[0;32m----> 1\u001b[0;31m \u001b[0mmyser\u001b[0m\u001b[0;34m[\u001b[0m\u001b[0;36m0\u001b[0m\u001b[0;34m]\u001b[0m\u001b[0;34m.\u001b[0m\u001b[0myear\u001b[0m\u001b[0;34m\u001b[0m\u001b[0;34m\u001b[0m\u001b[0m\n\u001b[0m",
            "\u001b[0;31mAttributeError\u001b[0m: 'str' object has no attribute 'year'"
          ]
        }
      ]
    },
    {
      "cell_type": "code",
      "source": [
        "timeser = pd.to_datetime(myser)"
      ],
      "metadata": {
        "id": "LUaBp5-_qXoZ"
      },
      "execution_count": null,
      "outputs": []
    },
    {
      "cell_type": "code",
      "source": [
        "timeser[0]"
      ],
      "metadata": {
        "colab": {
          "base_uri": "https://localhost:8080/"
        },
        "id": "7BTr5xTGq3rS",
        "outputId": "f540102b-56c3-4dbd-ffe1-0a105c586c48"
      },
      "execution_count": null,
      "outputs": [
        {
          "output_type": "execute_result",
          "data": {
            "text/plain": [
              "Timestamp('1990-11-03 00:00:00')"
            ]
          },
          "metadata": {},
          "execution_count": 13
        }
      ]
    },
    {
      "cell_type": "code",
      "source": [
        "timeser[0].year"
      ],
      "metadata": {
        "colab": {
          "base_uri": "https://localhost:8080/"
        },
        "id": "j88UsTApq6iS",
        "outputId": "ead55c7d-4340-4994-9772-95d50f93522a"
      },
      "execution_count": null,
      "outputs": [
        {
          "output_type": "execute_result",
          "data": {
            "text/plain": [
              "1990"
            ]
          },
          "metadata": {},
          "execution_count": 14
        }
      ]
    },
    {
      "cell_type": "code",
      "source": [
        "obvi_euro_date = '31-12-2002'"
      ],
      "metadata": {
        "id": "Dn1wvzq8rMr3"
      },
      "execution_count": null,
      "outputs": []
    },
    {
      "cell_type": "code",
      "source": [
        "pd.to_datetime(obvi_euro_date)"
      ],
      "metadata": {
        "colab": {
          "base_uri": "https://localhost:8080/"
        },
        "id": "4zfRCtIhrTA8",
        "outputId": "94b1cfc1-f99f-4816-cdcd-aa780dfe18b5"
      },
      "execution_count": null,
      "outputs": [
        {
          "output_type": "execute_result",
          "data": {
            "text/plain": [
              "Timestamp('2002-12-31 00:00:00')"
            ]
          },
          "metadata": {},
          "execution_count": 17
        }
      ]
    },
    {
      "cell_type": "code",
      "source": [
        "euro_date = '10-12-2000'"
      ],
      "metadata": {
        "id": "ttUclXiOrjrH"
      },
      "execution_count": null,
      "outputs": []
    },
    {
      "cell_type": "code",
      "source": [
        "pd.to_datetime(euro_date)"
      ],
      "metadata": {
        "colab": {
          "base_uri": "https://localhost:8080/"
        },
        "id": "sLS-ZNoCsPse",
        "outputId": "b072a403-f441-4e30-cbc1-32ee2e72412c"
      },
      "execution_count": null,
      "outputs": [
        {
          "output_type": "execute_result",
          "data": {
            "text/plain": [
              "Timestamp('2000-10-12 00:00:00')"
            ]
          },
          "metadata": {},
          "execution_count": 19
        }
      ]
    },
    {
      "cell_type": "code",
      "source": [
        "pd.to_datetime(euro_date, dayfirst=True)"
      ],
      "metadata": {
        "colab": {
          "base_uri": "https://localhost:8080/"
        },
        "id": "dYFqIYcfsVk-",
        "outputId": "384b4038-9896-420d-a196-fba66f52f8a1"
      },
      "execution_count": null,
      "outputs": [
        {
          "output_type": "execute_result",
          "data": {
            "text/plain": [
              "Timestamp('2000-12-10 00:00:00')"
            ]
          },
          "metadata": {},
          "execution_count": 20
        }
      ]
    },
    {
      "cell_type": "markdown",
      "source": [
        "## Custom Time String Formatting\n",
        "\n",
        "Sometimes dates can have a non standard format, one can always specify to pandas the format. One should also note this could speed up the conversion, so it may be worth doing even if pandas can parse on its own."
      ],
      "metadata": {
        "id": "QBrDoVwjsHxE"
      }
    },
    {
      "cell_type": "markdown",
      "source": [
        "A full table of codes can be found here: https://docs.python.org/3/library/datetime.html#strftime-and-strptime-format-codes"
      ],
      "metadata": {
        "id": "MUN-IdNesVyd"
      }
    },
    {
      "cell_type": "code",
      "source": [
        "style_date = '12--Dec--2020'"
      ],
      "metadata": {
        "id": "etDrf-SVtLkV"
      },
      "execution_count": null,
      "outputs": []
    },
    {
      "cell_type": "code",
      "source": [
        "pd.to_datetime(style_date, format='%d--%b--%Y')"
      ],
      "metadata": {
        "colab": {
          "base_uri": "https://localhost:8080/"
        },
        "id": "6OM5CjpuuSz9",
        "outputId": "5eac3d4e-bf69-4348-d0b6-dbbe88fee990"
      },
      "execution_count": null,
      "outputs": [
        {
          "output_type": "execute_result",
          "data": {
            "text/plain": [
              "Timestamp('2020-12-12 00:00:00')"
            ]
          },
          "metadata": {},
          "execution_count": 27
        }
      ]
    },
    {
      "cell_type": "code",
      "source": [
        "custom_date = '12th of Dec 2000'"
      ],
      "metadata": {
        "id": "rwyDkuUCuuj9"
      },
      "execution_count": null,
      "outputs": []
    },
    {
      "cell_type": "code",
      "source": [
        "pd.to_datetime(custom_date)"
      ],
      "metadata": {
        "colab": {
          "base_uri": "https://localhost:8080/"
        },
        "id": "vlhL3g4xu6Yr",
        "outputId": "6e3f37e2-b44c-44a9-c7f1-b70887c92971"
      },
      "execution_count": null,
      "outputs": [
        {
          "output_type": "execute_result",
          "data": {
            "text/plain": [
              "Timestamp('2000-12-12 00:00:00')"
            ]
          },
          "metadata": {},
          "execution_count": 29
        }
      ]
    },
    {
      "cell_type": "markdown",
      "source": [
        "## Data\n",
        "\n",
        "Retail Sales: Beer, Wine, and Liquor Stores\n",
        "\n",
        "Units:  Millions of Dollars, Not Seasonally Adjusted\n",
        "\n",
        "Frequency:  Monthly\n",
        "\n",
        "\n",
        "U.S. Census Bureau, Retail Sales: Beer, Wine, and Liquor Stores [MRTSSM4453USN], retrieved from FRED, Federal Reserve Bank of St. Louis; https://fred.stlouisfed.org/series/MRTSSM4453USN, July 2, 2020."
      ],
      "metadata": {
        "id": "rnEJrBH0szHc"
      }
    },
    {
      "cell_type": "code",
      "source": [
        "from google.colab import drive\n",
        "drive.mount('/content/gdrive')"
      ],
      "metadata": {
        "colab": {
          "base_uri": "https://localhost:8080/"
        },
        "id": "SmIOeB0evXyV",
        "outputId": "f0e8028f-7010-437a-ab7f-cf943981b2ca"
      },
      "execution_count": null,
      "outputs": [
        {
          "output_type": "stream",
          "name": "stdout",
          "text": [
            "Mounted at /content/gdrive\n"
          ]
        }
      ]
    },
    {
      "cell_type": "code",
      "source": [
        "sales = pd.read_csv('gdrive/My Drive/csv_files/RetailSales_BeerWineLiquor.csv')"
      ],
      "metadata": {
        "id": "Ruk55k-qwErc"
      },
      "execution_count": null,
      "outputs": []
    },
    {
      "cell_type": "code",
      "source": [
        "sales"
      ],
      "metadata": {
        "colab": {
          "base_uri": "https://localhost:8080/",
          "height": 423
        },
        "id": "cZiTiuRQwiXU",
        "outputId": "925a2064-a70d-49c0-dbc6-6e70afd8e49c"
      },
      "execution_count": null,
      "outputs": [
        {
          "output_type": "execute_result",
          "data": {
            "text/plain": [
              "           DATE  MRTSSM4453USN\n",
              "0    1992-01-01           1509\n",
              "1    1992-02-01           1541\n",
              "2    1992-03-01           1597\n",
              "3    1992-04-01           1675\n",
              "4    1992-05-01           1822\n",
              "..          ...            ...\n",
              "335  2019-12-01           6630\n",
              "336  2020-01-01           4388\n",
              "337  2020-02-01           4533\n",
              "338  2020-03-01           5562\n",
              "339  2020-04-01           5207\n",
              "\n",
              "[340 rows x 2 columns]"
            ],
            "text/html": [
              "\n",
              "  <div id=\"df-a80576c8-99e9-4cca-9bb8-738840523c53\">\n",
              "    <div class=\"colab-df-container\">\n",
              "      <div>\n",
              "<style scoped>\n",
              "    .dataframe tbody tr th:only-of-type {\n",
              "        vertical-align: middle;\n",
              "    }\n",
              "\n",
              "    .dataframe tbody tr th {\n",
              "        vertical-align: top;\n",
              "    }\n",
              "\n",
              "    .dataframe thead th {\n",
              "        text-align: right;\n",
              "    }\n",
              "</style>\n",
              "<table border=\"1\" class=\"dataframe\">\n",
              "  <thead>\n",
              "    <tr style=\"text-align: right;\">\n",
              "      <th></th>\n",
              "      <th>DATE</th>\n",
              "      <th>MRTSSM4453USN</th>\n",
              "    </tr>\n",
              "  </thead>\n",
              "  <tbody>\n",
              "    <tr>\n",
              "      <th>0</th>\n",
              "      <td>1992-01-01</td>\n",
              "      <td>1509</td>\n",
              "    </tr>\n",
              "    <tr>\n",
              "      <th>1</th>\n",
              "      <td>1992-02-01</td>\n",
              "      <td>1541</td>\n",
              "    </tr>\n",
              "    <tr>\n",
              "      <th>2</th>\n",
              "      <td>1992-03-01</td>\n",
              "      <td>1597</td>\n",
              "    </tr>\n",
              "    <tr>\n",
              "      <th>3</th>\n",
              "      <td>1992-04-01</td>\n",
              "      <td>1675</td>\n",
              "    </tr>\n",
              "    <tr>\n",
              "      <th>4</th>\n",
              "      <td>1992-05-01</td>\n",
              "      <td>1822</td>\n",
              "    </tr>\n",
              "    <tr>\n",
              "      <th>...</th>\n",
              "      <td>...</td>\n",
              "      <td>...</td>\n",
              "    </tr>\n",
              "    <tr>\n",
              "      <th>335</th>\n",
              "      <td>2019-12-01</td>\n",
              "      <td>6630</td>\n",
              "    </tr>\n",
              "    <tr>\n",
              "      <th>336</th>\n",
              "      <td>2020-01-01</td>\n",
              "      <td>4388</td>\n",
              "    </tr>\n",
              "    <tr>\n",
              "      <th>337</th>\n",
              "      <td>2020-02-01</td>\n",
              "      <td>4533</td>\n",
              "    </tr>\n",
              "    <tr>\n",
              "      <th>338</th>\n",
              "      <td>2020-03-01</td>\n",
              "      <td>5562</td>\n",
              "    </tr>\n",
              "    <tr>\n",
              "      <th>339</th>\n",
              "      <td>2020-04-01</td>\n",
              "      <td>5207</td>\n",
              "    </tr>\n",
              "  </tbody>\n",
              "</table>\n",
              "<p>340 rows × 2 columns</p>\n",
              "</div>\n",
              "      <button class=\"colab-df-convert\" onclick=\"convertToInteractive('df-a80576c8-99e9-4cca-9bb8-738840523c53')\"\n",
              "              title=\"Convert this dataframe to an interactive table.\"\n",
              "              style=\"display:none;\">\n",
              "        \n",
              "  <svg xmlns=\"http://www.w3.org/2000/svg\" height=\"24px\"viewBox=\"0 0 24 24\"\n",
              "       width=\"24px\">\n",
              "    <path d=\"M0 0h24v24H0V0z\" fill=\"none\"/>\n",
              "    <path d=\"M18.56 5.44l.94 2.06.94-2.06 2.06-.94-2.06-.94-.94-2.06-.94 2.06-2.06.94zm-11 1L8.5 8.5l.94-2.06 2.06-.94-2.06-.94L8.5 2.5l-.94 2.06-2.06.94zm10 10l.94 2.06.94-2.06 2.06-.94-2.06-.94-.94-2.06-.94 2.06-2.06.94z\"/><path d=\"M17.41 7.96l-1.37-1.37c-.4-.4-.92-.59-1.43-.59-.52 0-1.04.2-1.43.59L10.3 9.45l-7.72 7.72c-.78.78-.78 2.05 0 2.83L4 21.41c.39.39.9.59 1.41.59.51 0 1.02-.2 1.41-.59l7.78-7.78 2.81-2.81c.8-.78.8-2.07 0-2.86zM5.41 20L4 18.59l7.72-7.72 1.47 1.35L5.41 20z\"/>\n",
              "  </svg>\n",
              "      </button>\n",
              "      \n",
              "  <style>\n",
              "    .colab-df-container {\n",
              "      display:flex;\n",
              "      flex-wrap:wrap;\n",
              "      gap: 12px;\n",
              "    }\n",
              "\n",
              "    .colab-df-convert {\n",
              "      background-color: #E8F0FE;\n",
              "      border: none;\n",
              "      border-radius: 50%;\n",
              "      cursor: pointer;\n",
              "      display: none;\n",
              "      fill: #1967D2;\n",
              "      height: 32px;\n",
              "      padding: 0 0 0 0;\n",
              "      width: 32px;\n",
              "    }\n",
              "\n",
              "    .colab-df-convert:hover {\n",
              "      background-color: #E2EBFA;\n",
              "      box-shadow: 0px 1px 2px rgba(60, 64, 67, 0.3), 0px 1px 3px 1px rgba(60, 64, 67, 0.15);\n",
              "      fill: #174EA6;\n",
              "    }\n",
              "\n",
              "    [theme=dark] .colab-df-convert {\n",
              "      background-color: #3B4455;\n",
              "      fill: #D2E3FC;\n",
              "    }\n",
              "\n",
              "    [theme=dark] .colab-df-convert:hover {\n",
              "      background-color: #434B5C;\n",
              "      box-shadow: 0px 1px 3px 1px rgba(0, 0, 0, 0.15);\n",
              "      filter: drop-shadow(0px 1px 2px rgba(0, 0, 0, 0.3));\n",
              "      fill: #FFFFFF;\n",
              "    }\n",
              "  </style>\n",
              "\n",
              "      <script>\n",
              "        const buttonEl =\n",
              "          document.querySelector('#df-a80576c8-99e9-4cca-9bb8-738840523c53 button.colab-df-convert');\n",
              "        buttonEl.style.display =\n",
              "          google.colab.kernel.accessAllowed ? 'block' : 'none';\n",
              "\n",
              "        async function convertToInteractive(key) {\n",
              "          const element = document.querySelector('#df-a80576c8-99e9-4cca-9bb8-738840523c53');\n",
              "          const dataTable =\n",
              "            await google.colab.kernel.invokeFunction('convertToInteractive',\n",
              "                                                     [key], {});\n",
              "          if (!dataTable) return;\n",
              "\n",
              "          const docLinkHtml = 'Like what you see? Visit the ' +\n",
              "            '<a target=\"_blank\" href=https://colab.research.google.com/notebooks/data_table.ipynb>data table notebook</a>'\n",
              "            + ' to learn more about interactive tables.';\n",
              "          element.innerHTML = '';\n",
              "          dataTable['output_type'] = 'display_data';\n",
              "          await google.colab.output.renderOutput(dataTable, element);\n",
              "          const docLink = document.createElement('div');\n",
              "          docLink.innerHTML = docLinkHtml;\n",
              "          element.appendChild(docLink);\n",
              "        }\n",
              "      </script>\n",
              "    </div>\n",
              "  </div>\n",
              "  "
            ]
          },
          "metadata": {},
          "execution_count": 33
        }
      ]
    },
    {
      "cell_type": "code",
      "source": [
        "sales['DATE']"
      ],
      "metadata": {
        "colab": {
          "base_uri": "https://localhost:8080/"
        },
        "id": "NoAit4pSwx3h",
        "outputId": "e635ce70-898c-4a78-f0d3-19bdf73d8e77"
      },
      "execution_count": null,
      "outputs": [
        {
          "output_type": "execute_result",
          "data": {
            "text/plain": [
              "0      1992-01-01\n",
              "1      1992-02-01\n",
              "2      1992-03-01\n",
              "3      1992-04-01\n",
              "4      1992-05-01\n",
              "          ...    \n",
              "335    2019-12-01\n",
              "336    2020-01-01\n",
              "337    2020-02-01\n",
              "338    2020-03-01\n",
              "339    2020-04-01\n",
              "Name: DATE, Length: 340, dtype: object"
            ]
          },
          "metadata": {},
          "execution_count": 34
        }
      ]
    },
    {
      "cell_type": "code",
      "source": [
        "sales['DATE'] = pd.to_datetime(sales['DATE'])"
      ],
      "metadata": {
        "id": "PDWq1TwVwx1g"
      },
      "execution_count": null,
      "outputs": []
    },
    {
      "cell_type": "code",
      "source": [
        "sales['DATE']"
      ],
      "metadata": {
        "colab": {
          "base_uri": "https://localhost:8080/"
        },
        "id": "OOsKnFu-w_EK",
        "outputId": "00069670-5306-482d-f945-8756348b3282"
      },
      "execution_count": null,
      "outputs": [
        {
          "output_type": "execute_result",
          "data": {
            "text/plain": [
              "0     1992-01-01\n",
              "1     1992-02-01\n",
              "2     1992-03-01\n",
              "3     1992-04-01\n",
              "4     1992-05-01\n",
              "         ...    \n",
              "335   2019-12-01\n",
              "336   2020-01-01\n",
              "337   2020-02-01\n",
              "338   2020-03-01\n",
              "339   2020-04-01\n",
              "Name: DATE, Length: 340, dtype: datetime64[ns]"
            ]
          },
          "metadata": {},
          "execution_count": 36
        }
      ]
    },
    {
      "cell_type": "code",
      "source": [
        "sales['DATE'][0].year"
      ],
      "metadata": {
        "colab": {
          "base_uri": "https://localhost:8080/"
        },
        "id": "F8fCxq6VxNyE",
        "outputId": "1fb55680-ccde-4109-d3c9-be5d89c05cd2"
      },
      "execution_count": null,
      "outputs": [
        {
          "output_type": "execute_result",
          "data": {
            "text/plain": [
              "1992"
            ]
          },
          "metadata": {},
          "execution_count": 38
        }
      ]
    },
    {
      "cell_type": "markdown",
      "source": [
        "## Attempt to Parse Dates Automatically\n",
        "\n",
        "**parse_dates** - bool or list of int or names or list of lists or dict, default False\n",
        "The behavior is as follows:\n",
        "\n",
        "    boolean. If True -> try parsing the index.\n",
        "\n",
        "    list of int or names. e.g. If [1, 2, 3] -> try parsing columns 1, 2, 3 each as a separate date column.\n",
        "\n",
        "    list of lists. e.g. If [[1, 3]] -> combine columns 1 and 3 and parse as a single date column.\n",
        "\n",
        "    dict, e.g. {‘foo’ : [1, 3]} -> parse columns 1, 3 as date and call result ‘foo’\n",
        "\n",
        "    If a column or index cannot be represented as an array of datetimes, say because of an unparseable value or a mixture of timezones, the column or index will be returned unaltered as an object data type. For non-standard datetime parsing, use pd.to_datetime after pd.read_csv. To parse an index or column with a mixture of timezones, specify date_parser to be a partially-applied pandas.to_datetime() with utc=True. See Parsing a CSV with mixed timezones for more."
      ],
      "metadata": {
        "id": "FvIkVqIQugTU"
      }
    },
    {
      "cell_type": "code",
      "source": [
        "sales = pd.read_csv('gdrive/My Drive/csv_files/RetailSales_BeerWineLiquor.csv',parse_dates=[0])"
      ],
      "metadata": {
        "id": "i_olrSmlx1B1"
      },
      "execution_count": null,
      "outputs": []
    },
    {
      "cell_type": "code",
      "source": [
        "sales['DATE']"
      ],
      "metadata": {
        "colab": {
          "base_uri": "https://localhost:8080/"
        },
        "id": "cFTD6eLMyOFb",
        "outputId": "fc69bb48-b88b-4501-b935-aa37f6b72c6d"
      },
      "execution_count": null,
      "outputs": [
        {
          "output_type": "execute_result",
          "data": {
            "text/plain": [
              "0     1992-01-01\n",
              "1     1992-02-01\n",
              "2     1992-03-01\n",
              "3     1992-04-01\n",
              "4     1992-05-01\n",
              "         ...    \n",
              "335   2019-12-01\n",
              "336   2020-01-01\n",
              "337   2020-02-01\n",
              "338   2020-03-01\n",
              "339   2020-04-01\n",
              "Name: DATE, Length: 340, dtype: datetime64[ns]"
            ]
          },
          "metadata": {},
          "execution_count": 47
        }
      ]
    },
    {
      "cell_type": "markdown",
      "source": [
        "# .dt Method Calls\n",
        "\n",
        "https://pandas.pydata.org/pandas-docs/stable/reference/api/pandas.Series.dt.html"
      ],
      "metadata": {
        "id": "0vgG9RgmvQb8"
      }
    },
    {
      "cell_type": "code",
      "source": [
        "sales['DATE'].dt.month"
      ],
      "metadata": {
        "colab": {
          "base_uri": "https://localhost:8080/"
        },
        "id": "fa6Ni7I1znyU",
        "outputId": "2a8d5d17-22e3-4c0f-df3f-6ff72d83b77f"
      },
      "execution_count": null,
      "outputs": [
        {
          "output_type": "execute_result",
          "data": {
            "text/plain": [
              "0       1\n",
              "1       2\n",
              "2       3\n",
              "3       4\n",
              "4       5\n",
              "       ..\n",
              "335    12\n",
              "336     1\n",
              "337     2\n",
              "338     3\n",
              "339     4\n",
              "Name: DATE, Length: 340, dtype: int64"
            ]
          },
          "metadata": {},
          "execution_count": 49
        }
      ]
    },
    {
      "cell_type": "code",
      "source": [
        "sales = sales.set_index('DATE')"
      ],
      "metadata": {
        "id": "h-mVpq0nySpG"
      },
      "execution_count": null,
      "outputs": []
    },
    {
      "cell_type": "markdown",
      "source": [
        "## Resample"
      ],
      "metadata": {
        "id": "H9iZPM3uuwj9"
      }
    },
    {
      "cell_type": "markdown",
      "source": [
        "When calling `.resample()` you first need to pass in a **rule** parameter, then you need to call some sort of aggregation function.\n",
        "\n",
        "The **rule** parameter describes the frequency with which to apply the aggregation function (daily, monthly, yearly, etc.)<br>\n",
        "It is passed in using an \"offset alias\" - refer to the table below. [[reference](http://pandas.pydata.org/pandas-docs/stable/user_guide/timeseries.html#offset-aliases)]\n",
        "\n",
        "The aggregation function is needed because, due to resampling, we need some sort of mathematical rule to join the rows (mean, sum, count, etc.)"
      ],
      "metadata": {
        "id": "RfCxq-x2u2zl"
      }
    },
    {
      "cell_type": "markdown",
      "source": [
        "<table style=\"display: inline-block\">\n",
        "    <caption style=\"text-align: center\"><strong>TIME SERIES OFFSET ALIASES</strong></caption>\n",
        "<tr><th>ALIAS</th><th>DESCRIPTION</th></tr>\n",
        "<tr><td>B</td><td>business day frequency</td></tr>\n",
        "<tr><td>C</td><td>custom business day frequency (experimental)</td></tr>\n",
        "<tr><td>D</td><td>calendar day frequency</td></tr>\n",
        "<tr><td>W</td><td>weekly frequency</td></tr>\n",
        "<tr><td>M</td><td>month end frequency</td></tr>\n",
        "<tr><td>SM</td><td>semi-month end frequency (15th and end of month)</td></tr>\n",
        "<tr><td>BM</td><td>business month end frequency</td></tr>\n",
        "<tr><td>CBM</td><td>custom business month end frequency</td></tr>\n",
        "<tr><td>MS</td><td>month start frequency</td></tr>\n",
        "<tr><td>SMS</td><td>semi-month start frequency (1st and 15th)</td></tr>\n",
        "<tr><td>BMS</td><td>business month start frequency</td></tr>\n",
        "<tr><td>CBMS</td><td>custom business month start frequency</td></tr>\n",
        "<tr><td>Q</td><td>quarter end frequency</td></tr>\n",
        "<tr><td></td><td><font color=white>intentionally left blank</font></td></tr></table>\n",
        "\n",
        "<table style=\"display: inline-block; margin-left: 40px\">\n",
        "<caption style=\"text-align: center\"></caption>\n",
        "<tr><th>ALIAS</th><th>DESCRIPTION</th></tr>\n",
        "<tr><td>BQ</td><td>business quarter endfrequency</td></tr>\n",
        "<tr><td>QS</td><td>quarter start frequency</td></tr>\n",
        "<tr><td>BQS</td><td>business quarter start frequency</td></tr>\n",
        "<tr><td>A</td><td>year end frequency</td></tr>\n",
        "<tr><td>BA</td><td>business year end frequency</td></tr>\n",
        "<tr><td>AS</td><td>year start frequency</td></tr>\n",
        "<tr><td>BAS</td><td>business year start frequency</td></tr>\n",
        "<tr><td>BH</td><td>business hour frequency</td></tr>\n",
        "<tr><td>H</td><td>hourly frequency</td></tr>\n",
        "<tr><td>T, min</td><td>minutely frequency</td></tr>\n",
        "<tr><td>S</td><td>secondly frequency</td></tr>\n",
        "<tr><td>L, ms</td><td>milliseconds</td></tr>\n",
        "<tr><td>U, us</td><td>microseconds</td></tr>\n",
        "<tr><td>N</td><td>nanoseconds</td></tr></table>"
      ],
      "metadata": {
        "id": "YZ_fI2RCu4UG"
      }
    },
    {
      "cell_type": "code",
      "source": [
        "sales.resample(rule='A').mean()"
      ],
      "metadata": {
        "colab": {
          "base_uri": "https://localhost:8080/",
          "height": 989
        },
        "id": "Tsawf0dwyrdT",
        "outputId": "a2cde83b-be61-4fe2-8960-cd2faa92b0d1"
      },
      "execution_count": null,
      "outputs": [
        {
          "output_type": "execute_result",
          "data": {
            "text/plain": [
              "            MRTSSM4453USN\n",
              "DATE                     \n",
              "1992-12-31    1807.250000\n",
              "1993-12-31    1794.833333\n",
              "1994-12-31    1841.750000\n",
              "1995-12-31    1833.916667\n",
              "1996-12-31    1929.750000\n",
              "1997-12-31    2006.750000\n",
              "1998-12-31    2115.166667\n",
              "1999-12-31    2206.333333\n",
              "2000-12-31    2375.583333\n",
              "2001-12-31    2468.416667\n",
              "2002-12-31    2491.166667\n",
              "2003-12-31    2539.083333\n",
              "2004-12-31    2682.416667\n",
              "2005-12-31    2797.250000\n",
              "2006-12-31    3001.333333\n",
              "2007-12-31    3177.333333\n",
              "2008-12-31    3292.000000\n",
              "2009-12-31    3353.750000\n",
              "2010-12-31    3450.083333\n",
              "2011-12-31    3532.666667\n",
              "2012-12-31    3697.083333\n",
              "2013-12-31    3839.666667\n",
              "2014-12-31    4023.833333\n",
              "2015-12-31    4212.500000\n",
              "2016-12-31    4434.416667\n",
              "2017-12-31    4602.666667\n",
              "2018-12-31    4830.666667\n",
              "2019-12-31    4972.750000\n",
              "2020-12-31    4922.500000"
            ],
            "text/html": [
              "\n",
              "  <div id=\"df-7e02125a-4d4b-48f3-b120-83132ddde57a\">\n",
              "    <div class=\"colab-df-container\">\n",
              "      <div>\n",
              "<style scoped>\n",
              "    .dataframe tbody tr th:only-of-type {\n",
              "        vertical-align: middle;\n",
              "    }\n",
              "\n",
              "    .dataframe tbody tr th {\n",
              "        vertical-align: top;\n",
              "    }\n",
              "\n",
              "    .dataframe thead th {\n",
              "        text-align: right;\n",
              "    }\n",
              "</style>\n",
              "<table border=\"1\" class=\"dataframe\">\n",
              "  <thead>\n",
              "    <tr style=\"text-align: right;\">\n",
              "      <th></th>\n",
              "      <th>MRTSSM4453USN</th>\n",
              "    </tr>\n",
              "    <tr>\n",
              "      <th>DATE</th>\n",
              "      <th></th>\n",
              "    </tr>\n",
              "  </thead>\n",
              "  <tbody>\n",
              "    <tr>\n",
              "      <th>1992-12-31</th>\n",
              "      <td>1807.250000</td>\n",
              "    </tr>\n",
              "    <tr>\n",
              "      <th>1993-12-31</th>\n",
              "      <td>1794.833333</td>\n",
              "    </tr>\n",
              "    <tr>\n",
              "      <th>1994-12-31</th>\n",
              "      <td>1841.750000</td>\n",
              "    </tr>\n",
              "    <tr>\n",
              "      <th>1995-12-31</th>\n",
              "      <td>1833.916667</td>\n",
              "    </tr>\n",
              "    <tr>\n",
              "      <th>1996-12-31</th>\n",
              "      <td>1929.750000</td>\n",
              "    </tr>\n",
              "    <tr>\n",
              "      <th>1997-12-31</th>\n",
              "      <td>2006.750000</td>\n",
              "    </tr>\n",
              "    <tr>\n",
              "      <th>1998-12-31</th>\n",
              "      <td>2115.166667</td>\n",
              "    </tr>\n",
              "    <tr>\n",
              "      <th>1999-12-31</th>\n",
              "      <td>2206.333333</td>\n",
              "    </tr>\n",
              "    <tr>\n",
              "      <th>2000-12-31</th>\n",
              "      <td>2375.583333</td>\n",
              "    </tr>\n",
              "    <tr>\n",
              "      <th>2001-12-31</th>\n",
              "      <td>2468.416667</td>\n",
              "    </tr>\n",
              "    <tr>\n",
              "      <th>2002-12-31</th>\n",
              "      <td>2491.166667</td>\n",
              "    </tr>\n",
              "    <tr>\n",
              "      <th>2003-12-31</th>\n",
              "      <td>2539.083333</td>\n",
              "    </tr>\n",
              "    <tr>\n",
              "      <th>2004-12-31</th>\n",
              "      <td>2682.416667</td>\n",
              "    </tr>\n",
              "    <tr>\n",
              "      <th>2005-12-31</th>\n",
              "      <td>2797.250000</td>\n",
              "    </tr>\n",
              "    <tr>\n",
              "      <th>2006-12-31</th>\n",
              "      <td>3001.333333</td>\n",
              "    </tr>\n",
              "    <tr>\n",
              "      <th>2007-12-31</th>\n",
              "      <td>3177.333333</td>\n",
              "    </tr>\n",
              "    <tr>\n",
              "      <th>2008-12-31</th>\n",
              "      <td>3292.000000</td>\n",
              "    </tr>\n",
              "    <tr>\n",
              "      <th>2009-12-31</th>\n",
              "      <td>3353.750000</td>\n",
              "    </tr>\n",
              "    <tr>\n",
              "      <th>2010-12-31</th>\n",
              "      <td>3450.083333</td>\n",
              "    </tr>\n",
              "    <tr>\n",
              "      <th>2011-12-31</th>\n",
              "      <td>3532.666667</td>\n",
              "    </tr>\n",
              "    <tr>\n",
              "      <th>2012-12-31</th>\n",
              "      <td>3697.083333</td>\n",
              "    </tr>\n",
              "    <tr>\n",
              "      <th>2013-12-31</th>\n",
              "      <td>3839.666667</td>\n",
              "    </tr>\n",
              "    <tr>\n",
              "      <th>2014-12-31</th>\n",
              "      <td>4023.833333</td>\n",
              "    </tr>\n",
              "    <tr>\n",
              "      <th>2015-12-31</th>\n",
              "      <td>4212.500000</td>\n",
              "    </tr>\n",
              "    <tr>\n",
              "      <th>2016-12-31</th>\n",
              "      <td>4434.416667</td>\n",
              "    </tr>\n",
              "    <tr>\n",
              "      <th>2017-12-31</th>\n",
              "      <td>4602.666667</td>\n",
              "    </tr>\n",
              "    <tr>\n",
              "      <th>2018-12-31</th>\n",
              "      <td>4830.666667</td>\n",
              "    </tr>\n",
              "    <tr>\n",
              "      <th>2019-12-31</th>\n",
              "      <td>4972.750000</td>\n",
              "    </tr>\n",
              "    <tr>\n",
              "      <th>2020-12-31</th>\n",
              "      <td>4922.500000</td>\n",
              "    </tr>\n",
              "  </tbody>\n",
              "</table>\n",
              "</div>\n",
              "      <button class=\"colab-df-convert\" onclick=\"convertToInteractive('df-7e02125a-4d4b-48f3-b120-83132ddde57a')\"\n",
              "              title=\"Convert this dataframe to an interactive table.\"\n",
              "              style=\"display:none;\">\n",
              "        \n",
              "  <svg xmlns=\"http://www.w3.org/2000/svg\" height=\"24px\"viewBox=\"0 0 24 24\"\n",
              "       width=\"24px\">\n",
              "    <path d=\"M0 0h24v24H0V0z\" fill=\"none\"/>\n",
              "    <path d=\"M18.56 5.44l.94 2.06.94-2.06 2.06-.94-2.06-.94-.94-2.06-.94 2.06-2.06.94zm-11 1L8.5 8.5l.94-2.06 2.06-.94-2.06-.94L8.5 2.5l-.94 2.06-2.06.94zm10 10l.94 2.06.94-2.06 2.06-.94-2.06-.94-.94-2.06-.94 2.06-2.06.94z\"/><path d=\"M17.41 7.96l-1.37-1.37c-.4-.4-.92-.59-1.43-.59-.52 0-1.04.2-1.43.59L10.3 9.45l-7.72 7.72c-.78.78-.78 2.05 0 2.83L4 21.41c.39.39.9.59 1.41.59.51 0 1.02-.2 1.41-.59l7.78-7.78 2.81-2.81c.8-.78.8-2.07 0-2.86zM5.41 20L4 18.59l7.72-7.72 1.47 1.35L5.41 20z\"/>\n",
              "  </svg>\n",
              "      </button>\n",
              "      \n",
              "  <style>\n",
              "    .colab-df-container {\n",
              "      display:flex;\n",
              "      flex-wrap:wrap;\n",
              "      gap: 12px;\n",
              "    }\n",
              "\n",
              "    .colab-df-convert {\n",
              "      background-color: #E8F0FE;\n",
              "      border: none;\n",
              "      border-radius: 50%;\n",
              "      cursor: pointer;\n",
              "      display: none;\n",
              "      fill: #1967D2;\n",
              "      height: 32px;\n",
              "      padding: 0 0 0 0;\n",
              "      width: 32px;\n",
              "    }\n",
              "\n",
              "    .colab-df-convert:hover {\n",
              "      background-color: #E2EBFA;\n",
              "      box-shadow: 0px 1px 2px rgba(60, 64, 67, 0.3), 0px 1px 3px 1px rgba(60, 64, 67, 0.15);\n",
              "      fill: #174EA6;\n",
              "    }\n",
              "\n",
              "    [theme=dark] .colab-df-convert {\n",
              "      background-color: #3B4455;\n",
              "      fill: #D2E3FC;\n",
              "    }\n",
              "\n",
              "    [theme=dark] .colab-df-convert:hover {\n",
              "      background-color: #434B5C;\n",
              "      box-shadow: 0px 1px 3px 1px rgba(0, 0, 0, 0.15);\n",
              "      filter: drop-shadow(0px 1px 2px rgba(0, 0, 0, 0.3));\n",
              "      fill: #FFFFFF;\n",
              "    }\n",
              "  </style>\n",
              "\n",
              "      <script>\n",
              "        const buttonEl =\n",
              "          document.querySelector('#df-7e02125a-4d4b-48f3-b120-83132ddde57a button.colab-df-convert');\n",
              "        buttonEl.style.display =\n",
              "          google.colab.kernel.accessAllowed ? 'block' : 'none';\n",
              "\n",
              "        async function convertToInteractive(key) {\n",
              "          const element = document.querySelector('#df-7e02125a-4d4b-48f3-b120-83132ddde57a');\n",
              "          const dataTable =\n",
              "            await google.colab.kernel.invokeFunction('convertToInteractive',\n",
              "                                                     [key], {});\n",
              "          if (!dataTable) return;\n",
              "\n",
              "          const docLinkHtml = 'Like what you see? Visit the ' +\n",
              "            '<a target=\"_blank\" href=https://colab.research.google.com/notebooks/data_table.ipynb>data table notebook</a>'\n",
              "            + ' to learn more about interactive tables.';\n",
              "          element.innerHTML = '';\n",
              "          dataTable['output_type'] = 'display_data';\n",
              "          await google.colab.output.renderOutput(dataTable, element);\n",
              "          const docLink = document.createElement('div');\n",
              "          docLink.innerHTML = docLinkHtml;\n",
              "          element.appendChild(docLink);\n",
              "        }\n",
              "      </script>\n",
              "    </div>\n",
              "  </div>\n",
              "  "
            ]
          },
          "metadata": {},
          "execution_count": 51
        }
      ]
    },
    {
      "cell_type": "markdown",
      "source": [
        "Resampling rule 'A' takes all of the data points in a given year, applies the aggregation function (in this case we calculate the mean), and reports the result as the last day of that year. Note 2020 in this data set was not complete."
      ],
      "metadata": {
        "id": "pImGO6CJvFJF"
      }
    }
  ]
}